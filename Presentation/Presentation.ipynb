{
 "cells": [
  {
   "cell_type": "markdown",
   "id": "bbf5cd79-1804-4b0e-af59-f85dabc04999",
   "metadata": {},
   "source": [
    "We want to train a motion prediction model, which takes the 6D-pose of an object(in our case a robot) and it's velocity(linear, angular), and uses this information to predict the position of the object a few seconds ahead. So the model observes, e.g. the last 10 seconds of a movement and creates a prediction based on this time window. The prediction is one timestep, so 1 second, which is the timestep that comes after the last 10 seconds."
   ]
  },
  {
   "cell_type": "markdown",
   "id": "996c9c9c-8bce-45fb-8d09-06b839d9372b",
   "metadata": {},
   "source": [
    "# The LSTM\n",
    "The model we chose to use for our project is the LSTM. The LSTM is a model able to capture long-term dependencies, as the name suggest (Long-Short Term Memory), making it ideal for sequence prediction and, in our case, motion forecasting. \\\n",
    "The principle of the LSTM is to deal with the vanishing / exploding gradient problem of RNNs by saving the long-term memory and the short-term memory into two different states; the long-term memory is saved in the cell state (c_t), while the short-term memory is saved in the hidden state (h_t).\n",
    "![alt text](LSTM.png)"
   ]
  },
  {
   "cell_type": "markdown",
   "id": "7479301b-3e23-41ea-9e7a-d68be4064628",
   "metadata": {},
   "source": [
    "## The LSTM cell\n",
    "The LSTM cell is called a \"gated structure\"; this is beacuse each cell has three gates, called the forget gate, the input gate and the output gate\n",
    "![alt text](LSTM_Cell.png)"
   ]
  },
  {
   "cell_type": "markdown",
   "id": "fc32f9cb-bc7a-4c71-9a3a-1c7900c80d18",
   "metadata": {},
   "source": [
    "### The forget gate\n",
    "The forget gate controls how much of the long-term memory we keep by passing the current input through a sigmoid function together with the hidden layer and bias, and then multiplying it by the previous cell state c_t-1. A smaller value means less relevance of the past memory, while a bigger value means more relevance. In other words, the forget gate decides what to delete from the past\n",
    "![alt text](ForgetGate.png)"
   ]
  },
  {
   "cell_type": "markdown",
   "id": "1fa1cc8f-ed1e-4528-90e9-65894a7734c2",
   "metadata": {},
   "source": [
    "### The input gate\n",
    "The input gate decides how much of the current input and hidden state will influence the future long-term memory; in other words, decides what to add to the memory from the present.\n",
    "![alt text](InputGate.png)"
   ]
  },
  {
   "cell_type": "markdown",
   "id": "52154ea1-7d48-4e6e-bb5a-1020396a8b27",
   "metadata": {},
   "source": [
    "### The output gate\n",
    "The output gate takes the updated cell state (C_t), applies a tanh⁡ function to scale its values between −1 and 1, and then multiplies this by o_t (the output gate's activation vector). This produces the hidden state. The hidden state (h_t) represents the short-term memory that is immediately relevant for making predictions or decisions at the current time step. \\\n",
    "In other words, the output gate decides how much of the current memory should be shared as hidden state.\n",
    "![alt text](OutputGate.png)"
   ]
  },
  {
   "cell_type": "markdown",
   "id": "96f839b1-23a2-4222-a4f5-c2f2a6b50be1",
   "metadata": {},
   "source": [
    "# The model"
   ]
  },
  {
   "cell_type": "code",
   "execution_count": 4,
   "id": "7530893c-3aff-4d37-8e6c-0b4f4fa6e399",
   "metadata": {},
   "outputs": [],
   "source": [
    "import torch\n",
    "import torch.nn as nn\n",
    "import torch.optim as optim\n",
    "import matplotlib.pyplot as plt\n",
    "from torch.utils.data import DataLoader\n",
    "from torch.utils.data import DataLoader, Dataset\n",
    "import math\n",
    "import wandb\n",
    "import os\n",
    "\n",
    "import json\n",
    "import pandas as pd"
   ]
  },
  {
   "cell_type": "code",
   "execution_count": 5,
   "id": "ec3f1081-cef3-42f9-9bf1-aff4086b0e8d",
   "metadata": {},
   "outputs": [],
   "source": [
    "class CustomLSTM(nn.Module):\n",
    "    def __init__(self, input_sz, hidden_sz):\n",
    "        super().__init__()\n",
    "        self.input_sz = input_sz\n",
    "        self.hidden_size = hidden_sz\n",
    "\n",
    "        # Projection layer to adjust input to hidden size to handle any input size\n",
    "        self.input_projection = nn.Linear(input_sz, hidden_sz)\n",
    "\n",
    "        self.W = nn.Parameter(torch.Tensor(hidden_sz, hidden_sz * 4)) # Input weights: [U_i, U_o, U_c, U_f]\n",
    "        self.U = nn.Parameter(torch.Tensor(hidden_sz, hidden_sz * 4)) # Hidden state weights: [W_i, W_o, W_c, W_f]\n",
    "        self.bias = nn.Parameter(torch.Tensor(hidden_sz * 4)) # Biases: [b_i, b_o, b_c, b_f]\n",
    "        self.init_weights()\n",
    "\n",
    "        # FUlly connected layer to original input size for making predictions \n",
    "        self.fc = nn.Linear(hidden_sz, input_sz)\n",
    "\n",
    "    def forward(self, x, init_states=None):\n",
    "        bs, seq_sz, input_features = x.size() # Unpack x to batch size, sequence size (time steps), input features\n",
    "\n",
    "        # Project input to hidden size\n",
    "        x_projected = self.input_projection(x)\n",
    "\n",
    "        hidden_seq = []\n",
    "        if init_states is None:\n",
    "            h_t, c_t = (torch.zeros(bs, self.hidden_size).to(x.device),\n",
    "                        torch.zeros(bs, self.hidden_size).to(x.device))\n",
    "        else:\n",
    "            h_t, c_t = init_states\n",
    "\n",
    "        HS = self.hidden_size \n",
    "        for t in range(seq_sz): # For each time step t:\n",
    "            x_t = x_projected[:, t, :] # We take the curret input\n",
    "            # batch the computations into a single matrix multiplication\n",
    "            gates = x_t @ self.W + h_t @ self.U + self.bias\n",
    "            i_t, f_t, g_t, o_t = (\n",
    "                torch.sigmoid(gates[:, :HS]), # input\n",
    "                torch.sigmoid(gates[:, HS:HS*2]), # forget\n",
    "                torch.tanh(gates[:, HS*2:HS*3]),\n",
    "                torch.sigmoid(gates[:, HS*3:]), # output\n",
    "            )\n",
    "            c_t = f_t * c_t + i_t * g_t\n",
    "            h_t = o_t * torch.tanh(c_t)\n",
    "            hidden_seq.append(h_t.unsqueeze(0))\n",
    "\n",
    "        # Use the last hidden state for prediction\n",
    "        prediction = self.fc(h_t)\n",
    "\n",
    "        hidden_seq = torch.cat(hidden_seq, dim=0)\n",
    "        hidden_seq = hidden_seq.transpose(0, 1).contiguous()\n",
    "        return prediction, (h_t, c_t)\n",
    "\n",
    "    def init_weights(self):\n",
    "        stdv = 1.0 / math.sqrt(self.hidden_size)\n",
    "        for weight in self.parameters():\n",
    "            weight.data.uniform_(-stdv, stdv)"
   ]
  },
  {
   "cell_type": "markdown",
   "id": "fe51595c-5ad2-4bf0-906a-7f2f5d5cfa2d",
   "metadata": {},
   "source": [
    "# Training and validation loop"
   ]
  },
  {
   "cell_type": "code",
   "execution_count": 6,
   "id": "44f370c8-45d3-4da1-9af0-83285df3962d",
   "metadata": {},
   "outputs": [
    {
     "name": "stderr",
     "output_type": "stream",
     "text": [
      "\u001b[34m\u001b[1mwandb\u001b[0m: Currently logged in as: \u001b[33msamueleghizzo\u001b[0m (\u001b[33msamueleghizzo-university-of-klagenfurt\u001b[0m). Use \u001b[1m`wandb login --relogin`\u001b[0m to force relogin\n",
      "\u001b[34m\u001b[1mwandb\u001b[0m: Using wandb-core as the SDK backend.  Please refer to https://wandb.me/wandb-core for more information.\n"
     ]
    },
    {
     "data": {
      "text/html": [
       "Tracking run with wandb version 0.19.4"
      ],
      "text/plain": [
       "<IPython.core.display.HTML object>"
      ]
     },
     "metadata": {},
     "output_type": "display_data"
    },
    {
     "data": {
      "text/html": [
       "Run data is saved locally in <code>/home/samuele/MLproject/Presentation/wandb/run-20250206_191805-536t3z21</code>"
      ],
      "text/plain": [
       "<IPython.core.display.HTML object>"
      ]
     },
     "metadata": {},
     "output_type": "display_data"
    },
    {
     "data": {
      "text/html": [
       "Syncing run <strong><a href='https://wandb.ai/samueleghizzo-university-of-klagenfurt/AMPM/runs/536t3z21' target=\"_blank\">fresh-puddle-4</a></strong> to <a href='https://wandb.ai/samueleghizzo-university-of-klagenfurt/AMPM' target=\"_blank\">Weights & Biases</a> (<a href='https://wandb.me/developer-guide' target=\"_blank\">docs</a>)<br>"
      ],
      "text/plain": [
       "<IPython.core.display.HTML object>"
      ]
     },
     "metadata": {},
     "output_type": "display_data"
    },
    {
     "data": {
      "text/html": [
       " View project at <a href='https://wandb.ai/samueleghizzo-university-of-klagenfurt/AMPM' target=\"_blank\">https://wandb.ai/samueleghizzo-university-of-klagenfurt/AMPM</a>"
      ],
      "text/plain": [
       "<IPython.core.display.HTML object>"
      ]
     },
     "metadata": {},
     "output_type": "display_data"
    },
    {
     "data": {
      "text/html": [
       " View run at <a href='https://wandb.ai/samueleghizzo-university-of-klagenfurt/AMPM/runs/536t3z21' target=\"_blank\">https://wandb.ai/samueleghizzo-university-of-klagenfurt/AMPM/runs/536t3z21</a>"
      ],
      "text/plain": [
       "<IPython.core.display.HTML object>"
      ]
     },
     "metadata": {},
     "output_type": "display_data"
    },
    {
     "data": {
      "text/html": [
       "<button onClick=\"this.nextSibling.style.display='block';this.style.display='none';\">Display W&B run</button><iframe src='https://wandb.ai/samueleghizzo-university-of-klagenfurt/AMPM/runs/536t3z21?jupyter=true' style='border:none;width:100%;height:420px;display:none;'></iframe>"
      ],
      "text/plain": [
       "<wandb.sdk.wandb_run.Run at 0x7f98b2dbb6d0>"
      ]
     },
     "execution_count": 6,
     "metadata": {},
     "output_type": "execute_result"
    }
   ],
   "source": [
    "wandb.init(\n",
    "    # set the wandb project where this run will be logged\n",
    "    project=\"AMPM\",\n",
    "\n",
    "    # track hyperparameters and run metadata\n",
    "    config={\n",
    "    \"learning_rate\": 0.005,\n",
    "    \"architecture\": \"LSTM\",\n",
    "    \"dataset\": \"Self-collected, dataset6\",\n",
    "    \"epochs\": 110,\n",
    "    \"hidden_size\": 64,\n",
    "    \"normalization\": \"Standardized\",\n",
    "    \"batch_size\": 32\n",
    "    }\n",
    ")"
   ]
  },
  {
   "cell_type": "code",
   "execution_count": 7,
   "id": "edd52314-0a1b-4e92-99ae-60167531c05c",
   "metadata": {},
   "outputs": [],
   "source": [
    "def train(model, train_loader, val_loader, criterion, optimizer, scheduler, device, num_epochs=200):\n",
    "    train_losses = []\n",
    "    val_losses = []\n",
    "\n",
    "    for epoch in range(num_epochs):\n",
    "        model.train()\n",
    "        train_loss = 0\n",
    "\n",
    "        for X_batch, y_batch in train_loader:\n",
    "\n",
    "            X_batch, y_batch = X_batch.to(device), y_batch.to(device)\n",
    "\n",
    "            # Merge `num_windows` with `batch_size`\n",
    "            bs, nw, seq_len, feature_dim = X_batch.shape\n",
    "            # print(\"X_batch shape before merging: \", X_batch.shape)\n",
    "            X_batch = X_batch.view(bs * nw, seq_len, feature_dim)\n",
    "            # print(\"X_batch shape after merging: \", X_batch.shape)\n",
    "\n",
    "            # Adjust y_batch accordingly\n",
    "            y_batch = y_batch.view(bs * nw, -1)\n",
    "\n",
    "            # Pass reshaped inputs to the model\n",
    "            output, _ = model(X_batch)\n",
    "\n",
    "            # Compute the loss\n",
    "            loss = criterion(output, y_batch)\n",
    "\n",
    "            # Backpropagation\n",
    "            optimizer.zero_grad()\n",
    "            loss.backward()\n",
    "            optimizer.step()\n",
    "\n",
    "            train_loss += loss.item()\n",
    "\n",
    "        train_loss /= len(train_loader)\n",
    "        train_losses.append(train_loss)\n",
    "        wandb.log({\"Train loss\": train_loss})\n",
    "        model.eval()\n",
    "        val_loss = 0\n",
    "        with torch.no_grad():\n",
    "            for X_batch, y_batch in val_loader:\n",
    "\n",
    "                X_batch, y_batch = X_batch.to(device), y_batch.to(device)\n",
    "               \n",
    "                bs, nw, seq_len, feature_dim = X_batch.shape\n",
    "                X_batch = X_batch.view(bs * nw, seq_len, feature_dim)\n",
    "\n",
    "                y_batch = y_batch.view(bs * nw, -1)\n",
    "\n",
    "                output, _ = model(X_batch)\n",
    "               \n",
    "                loss = criterion(output, y_batch)\n",
    "                val_loss += loss.item()\n",
    "\n",
    "        val_loss /= len(val_loader)\n",
    "        val_losses.append(val_loss)\n",
    "\n",
    "        # Apply scheduler step to reduce learning rate\n",
    "        scheduler.step(val_loss)\n",
    "\n",
    "        print(f\"Epoch {epoch+1}/{num_epochs}, Train Loss: {train_loss:.4f}, Val Loss: {val_loss:.4f}\")\n",
    "        wandb.log({\"Val loss\": val_loss})\n",
    "\n",
    "    return train_losses, val_losses"
   ]
  },
  {
   "cell_type": "markdown",
   "id": "e8ae81ca-c457-43d0-8ec9-d1f76d38c5c2",
   "metadata": {},
   "source": [
    "# Dataset creation"
   ]
  },
  {
   "cell_type": "code",
   "execution_count": null,
   "id": "3aabb772-da9f-482e-b36f-75051be4725c",
   "metadata": {},
   "outputs": [],
   "source": [
    "'''\n",
    "import pandas as pd\n",
    "import torch\n",
    "import numpy as np\n",
    "import os\n",
    "from sklearn.model_selection import train_test_split\n",
    "\n",
    "def load_data(filepath):\n",
    "    tensor_files = [os.path.join(root, file) for root, dirs, files in os.walk(filepath) for file in files if file.endswith('tensor_data.npy')]\n",
    "\n",
    "    print(f\"Found {len(tensor_files)} tensor files\")\n",
    "\n",
    "    sequences = []\n",
    "    sequence_lengths = []\n",
    "\n",
    "    for file_path in tensor_files:\n",
    "        data = np.load(file_path, allow_pickle=True)\n",
    "        movement_data = torch.tensor(data['data'], dtype=torch.float32)\n",
    "        movement_data = torch.cat((movement_data[:, :-2], movement_data[:, -1:]), dim=1)  # Remove second-to-last column, this was a redundant feature\n",
    "        sequence_lengths.append(movement_data.shape[0])\n",
    "        sequences.append(movement_data)\n",
    "        #print(movement_data.shape)\n",
    "    \n",
    "    print(f\"Loaded {len(sequences)} sequences with varying lengths.\")\n",
    "    return sequences, sequence_lengths\n",
    "\n",
    "# filtering out sequences with less than 50 timesteps\n",
    "def filter_small_sequences(sequences, sequence_lengths, min_length=50):\n",
    "    filtered_sequences = []\n",
    "    filtered_sequence_lengths = []\n",
    "    \n",
    "    for seq_idx, sequence in enumerate(sequences):\n",
    "        if sequence_lengths[seq_idx] >= min_length:\n",
    "            filtered_sequences.append(sequence)\n",
    "            filtered_sequence_lengths.append(sequence_lengths[seq_idx])\n",
    "    \n",
    "    print(f\"Filtered out {len(sequences) - len(filtered_sequences)} sequences with less than {min_length} timesteps.\")\n",
    "    return filtered_sequences, filtered_sequence_lengths\n",
    "\n",
    "# shortening all sequences, such that they are all of length 50\n",
    "def shorten_sequences(filtered_sequences, filtered_sequence_lengths, max_length=50):\n",
    "    cut_sequences = []\n",
    "    cut_sequence_lengths = []\n",
    "\n",
    "    for seq_idx, sequence in enumerate(filtered_sequences):\n",
    "        if filtered_sequence_lengths[seq_idx] > max_length and filtered_sequence_lengths[seq_idx] < 2*max_length:\n",
    "            cut_sequences.append(sequence[:max_length])\n",
    "            cut_sequence_lengths.append(max_length)\n",
    "        else:\n",
    "            sequence = sequence[:2*max_length]\n",
    "            t1 = sequence[:max_length]\n",
    "            t2 = sequence[max_length:]\n",
    "            cut_sequences.append(t1)\n",
    "            cut_sequences.append(t2)\n",
    "            cut_sequence_lengths.append(max_length)\n",
    "            cut_sequence_lengths.append(max_length)\n",
    "\n",
    "    return cut_sequences, cut_sequence_lengths\n",
    "\n",
    "# apply sliding windows to create input-output pairs for the LSTM\n",
    "def prepare_lstm_dataset(movement_sequences, sequence_lengths, window_size=10):\n",
    "    X, y = [], []\n",
    "\n",
    "    for seq_idx, sequence in enumerate(movement_sequences):\n",
    "        seq_length = sequence_lengths[seq_idx]\n",
    "\n",
    "        X_sequence = []\n",
    "        y_sequence = []\n",
    "        # added try-except, because one sequence gave an index out of bounds error, which didn't make sense\n",
    "        try:\n",
    "            for i in range(seq_length - window_size):\n",
    "                X_sequence.append(sequence[i:i+window_size])\n",
    "                y_sequence.append(sequence[i+window_size])\n",
    "        \n",
    "            X.append(torch.stack(X_sequence))\n",
    "            y.append(torch.stack(y_sequence))\n",
    "        except Exception as e:\n",
    "            print(f\"Error in sequence {seq_idx}: {e}\")\n",
    "            print(f\"Sequence length: {seq_length}, Sequence shape: {sequence.shape}\")\n",
    "\n",
    "\n",
    "    print(f\"Prepared {len(X)} input sequences for training.\")\n",
    "    return X, y\n",
    "\n",
    "def standardize_data(X, y):\n",
    "    X_all = torch.cat([x.flatten(0, 1) for x in X], dim=0)\n",
    "    \n",
    "    mean = X_all.mean(dim=0, keepdim=True)\n",
    "    std = X_all.std(dim=0, keepdim=True)\n",
    "    \n",
    "    std[std == 0] = 1  # avoiding NaNs\n",
    "    X_standardized = [(x - mean) / std for x in X]\n",
    "    y_standardized = [(yy - mean) / std for yy in y]\n",
    "    \n",
    "    return X_standardized, y_standardized\n",
    "\n",
    "def split_sequences(sequences, test_size=0.1, val_size=0.1):\n",
    "    # Split sequences into train+val and test\n",
    "    X_train_val, X_test = train_test_split(sequences, test_size=test_size, random_state=42)\n",
    "    \n",
    "    # Split the train+val into train and validation\n",
    "    X_train, X_val = train_test_split(X_train_val, test_size=val_size / (1 - test_size), random_state=42)\n",
    "    \n",
    "    return X_train, X_val, X_test\n",
    "\n",
    "def main():\n",
    "    filepath = 'catkin_ws/src/datasetcreator/src/runs_new'\n",
    "    sequences, sequence_lengths = load_data(filepath)\n",
    "    #print(sequences[0].shape)\n",
    "    #print(min(sequence_lengths))\n",
    "    #print(max(sequence_lengths))\n",
    "\n",
    "    filtered_sequences, filtered_sequence_lengths = filter_small_sequences(sequences, sequence_lengths, min_length=50)\n",
    "    print(\"Filtered sequences: \", len(filtered_sequences))\n",
    "    print(\"Minimum length after filtering: \", min(filtered_sequence_lengths))\n",
    "\n",
    "    cut_sequences, cut_sequence_lengths = shorten_sequences(filtered_sequences, filtered_sequence_lengths, max_length=50)\n",
    "    print(\"Shortened sequences: \", len(cut_sequences))\n",
    "    print(\"Minimum length after shortening: \", min(cut_sequence_lengths))\n",
    "    #print(max(cut_sequence_lengths))\n",
    "\n",
    "    #print(cut_sequences)\n",
    "    #print(cut_sequence_lengths)\n",
    "    X, y = prepare_lstm_dataset(cut_sequences, cut_sequence_lengths, window_size=10)\n",
    "\n",
    "    X_stand, y_stand = standardize_data(X, y)\n",
    "\n",
    "    X_train_seq, X_val_seq, X_test_seq = split_sequences(list(zip(X_stand, y_stand)))\n",
    "\n",
    "    X_train, y_train = zip(*X_train_seq)\n",
    "    X_val, y_val = zip(*X_val_seq)\n",
    "    X_test, y_test = zip(*X_test_seq)\n",
    "\n",
    "    print(f\"X_train: {len(X_train)}, X_val: {len(X_val)}, X_test: {len(X_test)}\")\n",
    "    print(f\"y_train: {len(y_train)}, y_val: {len(y_val)}, y_test: {len(y_test)}\")\n",
    "\n",
    "    torch.save({\n",
    "        'X_train': X_train, 'X_val': X_val, 'X_test': X_test,\n",
    "        'y_train': y_train, 'y_val': y_val, 'y_test': y_test\n",
    "    }, 'Datasets/lstm_dataset6.pt')\n",
    "\n",
    "if __name__ == '__main__':\n",
    "    main()\n",
    "'''"
   ]
  },
  {
   "cell_type": "markdown",
   "id": "7d7f1efd-e284-4c05-8d61-175c320ab0ee",
   "metadata": {},
   "source": [
    "![Video of how the dataset was created](gazebo.gif)"
   ]
  },
  {
   "cell_type": "markdown",
   "id": "a4174918-b7d1-464b-a67e-d9a2c2bbcb02",
   "metadata": {},
   "source": [
    "# Loading data and Custom Dataset class"
   ]
  },
  {
   "cell_type": "code",
   "execution_count": 8,
   "id": "ec8371dc-412e-464e-8d80-0e6118dbd6f9",
   "metadata": {},
   "outputs": [],
   "source": [
    "def load_data(data_path):\n",
    "    data = torch.load(data_path, weights_only=True)\n",
    "    X_train, y_train = data['X_train'], data['y_train']\n",
    "    X_val, y_val = data['X_val'], data['y_val']\n",
    "    X_test, y_test = data['X_test'], data['y_test']\n",
    "\n",
    "    return X_train, y_train, X_val, y_val, X_test, y_test"
   ]
  },
  {
   "cell_type": "code",
   "execution_count": 9,
   "id": "27eaa8a7-59fe-43ba-ae6a-ee1193ef3a82",
   "metadata": {},
   "outputs": [],
   "source": [
    "class CustomDataset(Dataset):\n",
    "    def __init__(self, X, y):\n",
    "        self.X = X  \n",
    "        self.y = y  \n",
    "\n",
    "    def __len__(self):\n",
    "        return len(self.X)\n",
    "\n",
    "    def __getitem__(self, idx):\n",
    "        return self.X[idx], self.y[idx]"
   ]
  },
  {
   "cell_type": "markdown",
   "id": "abaa1238-22e2-45fa-ae7d-b0d847bf5102",
   "metadata": {},
   "source": [
    "# Let's look at the data"
   ]
  },
  {
   "cell_type": "code",
   "execution_count": 10,
   "id": "30d99afe-7ef9-43c3-95ad-0dc47fdd729b",
   "metadata": {},
   "outputs": [],
   "source": [
    "import pandas as pd\n",
    "import numpy as np"
   ]
  },
  {
   "cell_type": "code",
   "execution_count": 11,
   "id": "0890d8f8-2c5a-4c7d-a39a-35ede9d8439d",
   "metadata": {},
   "outputs": [],
   "source": [
    "data_path = 'lstm_dataset6.pt'\n",
    "X_train, y_train, X_val, y_val, X_test, y_test = load_data(data_path)"
   ]
  },
  {
   "cell_type": "markdown",
   "id": "de24909f-f953-42fc-99f1-319fe77d9b4f",
   "metadata": {},
   "source": [
    "## X_train and y_train\n",
    "X_train and y_train each contain 41 elements, which are the number of movements recorded."
   ]
  },
  {
   "cell_type": "code",
   "execution_count": 12,
   "id": "544d5f06-6d60-4e36-8b6d-88b93f66d9be",
   "metadata": {},
   "outputs": [
    {
     "name": "stdout",
     "output_type": "stream",
     "text": [
      "Number of movements inside X_train: 41\n",
      "Number of movements inside y_train: 41\n"
     ]
    }
   ],
   "source": [
    "print(\"Number of movements inside X_train:\", len(X_train))\n",
    "print(\"Number of movements inside y_train:\", len(y_train))"
   ]
  },
  {
   "cell_type": "markdown",
   "id": "f86eaa49-6aa3-4caa-8a7d-95546509572e",
   "metadata": {},
   "source": [
    "Each of this movement is then split upon 40 further time series, each time series being 10 time steps and 8 features in case of X_train and only one time step in case of y_train"
   ]
  },
  {
   "cell_type": "code",
   "execution_count": 13,
   "id": "41271bdf-6346-4119-b7b3-0cabc83cdcdc",
   "metadata": {},
   "outputs": [
    {
     "name": "stdout",
     "output_type": "stream",
     "text": [
      "X_train shape: torch.Size([40, 10, 8])\n",
      "y_train shape: torch.Size([40, 8])\n"
     ]
    }
   ],
   "source": [
    "print(\"X_train shape:\", X_train[0].shape)\n",
    "print(\"y_train shape:\", y_train[0].shape) "
   ]
  },
  {
   "cell_type": "markdown",
   "id": "07010842-6f2a-4b5d-822e-af613183f40a",
   "metadata": {},
   "source": [
    "### Single movement"
   ]
  },
  {
   "cell_type": "code",
   "execution_count": 14,
   "id": "30c76255-bb35-477a-baa6-710fffedc7bc",
   "metadata": {},
   "outputs": [
    {
     "name": "stdout",
     "output_type": "stream",
     "text": [
      "\n",
      "Single X_train tensor:\n",
      "tensor([[-0.0402, -0.3652,  0.0000,  0.0000,  0.0000,  0.1534,  1.0825, -0.0238],\n",
      "        [-0.0290, -0.3652,  0.0000,  0.0000,  0.0000,  0.1534,  1.0825, -0.0238],\n",
      "        [ 0.0066, -0.3655,  0.0000,  0.0000,  0.0000,  0.1534,  1.0825,  0.0123],\n",
      "        [ 0.0480, -0.3656,  0.0000,  0.0000,  0.0000,  0.1534,  1.0825, -0.0481],\n",
      "        [ 0.0895, -0.3652,  0.0000,  0.0000,  0.0000,  0.1534,  1.0825, -0.0238],\n",
      "        [ 0.1310, -0.3650,  0.0000,  0.0000,  0.0000,  0.1534,  1.0825, -0.0238],\n",
      "        [ 0.1724, -0.3649,  0.0000,  0.0000,  0.0000,  0.1534,  1.0825, -0.0238],\n",
      "        [ 0.2139, -0.3648,  0.0000,  0.0000,  0.0000,  0.1534,  1.0825, -0.0238],\n",
      "        [ 0.2554, -0.3648,  0.0000,  0.0000,  0.0000,  0.1534,  1.0825, -0.0238],\n",
      "        [ 0.2969, -0.3648,  0.0000,  0.0000,  0.0000,  0.1534,  1.0825, -0.0238]])\n",
      "\n",
      "Corresponding y_train tensor:\n",
      "tensor([ 0.3383, -0.3648,  0.0000,  0.0000,  0.0000,  0.1534,  1.0825, -0.0238])\n"
     ]
    }
   ],
   "source": [
    "single_x_tensor = X_train[0][0]\n",
    "print(\"\\nSingle X_train tensor:\")\n",
    "print(single_x_tensor)\n",
    "\n",
    "single_y_tensor = y_train[0][0]\n",
    "print(\"\\nCorresponding y_train tensor:\")\n",
    "print(single_y_tensor)"
   ]
  },
  {
   "cell_type": "code",
   "execution_count": 15,
   "id": "5e616542-24d0-46ed-9070-b6330e134a49",
   "metadata": {},
   "outputs": [
    {
     "name": "stdout",
     "output_type": "stream",
     "text": [
      "X_train tensor as table:\n",
      "          x         y    z  roll  pitch       yaw  linear_velocity  \\\n",
      "0 -0.040197 -0.365190  0.0   0.0    0.0  0.153439         1.082531   \n",
      "1 -0.028958 -0.365195  0.0   0.0    0.0  0.153439         1.082531   \n",
      "2  0.006575 -0.365532  0.0   0.0    0.0  0.153439         1.082531   \n",
      "3  0.048038 -0.365624  0.0   0.0    0.0  0.153439         1.082531   \n",
      "4  0.089508 -0.365212  0.0   0.0    0.0  0.153439         1.082531   \n",
      "5  0.130979 -0.365017  0.0   0.0    0.0  0.153439         1.082531   \n",
      "6  0.172448 -0.364908  0.0   0.0    0.0  0.153439         1.082531   \n",
      "7  0.213917 -0.364838  0.0   0.0    0.0  0.153439         1.082531   \n",
      "8  0.255389 -0.364792  0.0   0.0    0.0  0.153439         1.082531   \n",
      "9  0.296858 -0.364766  0.0   0.0    0.0  0.153439         1.082531   \n",
      "\n",
      "   angular_velocity  \n",
      "0         -0.023835  \n",
      "1         -0.023835  \n",
      "2          0.012337  \n",
      "3         -0.048119  \n",
      "4         -0.023835  \n",
      "5         -0.023835  \n",
      "6         -0.023835  \n",
      "7         -0.023835  \n",
      "8         -0.023835  \n",
      "9         -0.023835  \n",
      "\n",
      "y_train tensor as table:\n",
      "          x         y    z  roll  pitch       yaw  linear_velocity  \\\n",
      "0  0.338328 -0.364765  0.0   0.0    0.0  0.153439         1.082531   \n",
      "\n",
      "   angular_velocity  \n",
      "0         -0.023835  \n"
     ]
    }
   ],
   "source": [
    "columns = ['x', 'y', 'z', 'roll', 'pitch', 'yaw', 'linear_velocity', 'angular_velocity']\n",
    "\n",
    "single_x_np = single_x_tensor.numpy()\n",
    "single_y_np = single_y_tensor.numpy()\n",
    "\n",
    "df_x = pd.DataFrame(single_x_np, columns=columns)\n",
    "\n",
    "df_y = pd.DataFrame([single_y_np], columns=columns)\n",
    "\n",
    "print(\"X_train tensor as table:\")\n",
    "print(df_x)\n",
    "print(\"\\ny_train tensor as table:\")\n",
    "print(df_y)"
   ]
  },
  {
   "cell_type": "markdown",
   "id": "00081e26-a188-4a53-b7c9-c8c852d034b1",
   "metadata": {},
   "source": [
    "## X/y_val, X/y_test\n",
    "The valuation and test data are done similary, with the only difference to be 6 movements for valuation and 6 movements for test. Therefore we have a data split of 77%-11%-11%"
   ]
  },
  {
   "cell_type": "code",
   "execution_count": 16,
   "id": "9335e1a6-56e6-46ae-bda1-8864a0d82bc7",
   "metadata": {},
   "outputs": [
    {
     "name": "stdout",
     "output_type": "stream",
     "text": [
      "Number of movements inside X_val: 6\n",
      "Number of movements inside y_val: 6\n",
      "X_val shape: torch.Size([40, 10, 8])\n",
      "y_val shape: torch.Size([40, 8])\n",
      "Number of movements inside X_test: 6\n",
      "Number of movements inside y_test: 6\n",
      "X_test shape: torch.Size([40, 10, 8])\n",
      "y_test shape: torch.Size([40, 8])\n"
     ]
    }
   ],
   "source": [
    "print(\"Number of movements inside X_val:\", len(X_val))\n",
    "print(\"Number of movements inside y_val:\", len(y_val))\n",
    "print(\"X_val shape:\", X_val[0].shape)\n",
    "print(\"y_val shape:\", y_val[0].shape)\n",
    "print(\"Number of movements inside X_test:\", len(X_test))\n",
    "print(\"Number of movements inside y_test:\", len(y_test))\n",
    "print(\"X_test shape:\", X_test[0].shape)\n",
    "print(\"y_test shape:\", y_test[0].shape)"
   ]
  },
  {
   "cell_type": "markdown",
   "id": "0b3be846-b260-48fb-94ff-c21106b6abd6",
   "metadata": {},
   "source": [
    "# Training the model"
   ]
  },
  {
   "cell_type": "code",
   "execution_count": 17,
   "id": "8e236ada-58d5-4098-b126-883cb99d836d",
   "metadata": {},
   "outputs": [],
   "source": [
    "def main():\n",
    "    device = torch.device('cuda' if torch.cuda.is_available() else 'cpu')\n",
    "    model = CustomLSTM(input_sz=8, hidden_sz=64).to(device)\n",
    "    criterion = nn.MSELoss()\n",
    "    optimizer = optim.Adam(model.parameters(), lr=0.005)\n",
    "    scheduler = optim.lr_scheduler.ReduceLROnPlateau(optimizer, mode='min', factor=0.5, patience=5, min_lr=0.00000000001, verbose=True)\n",
    "\n",
    "    data_path = 'lstm_dataset6.pt'\n",
    "\n",
    "    X_train, y_train, X_val, y_val, X_test, y_test = load_data(data_path)\n",
    "\n",
    "    train_dataset = CustomDataset(X_train, y_train)\n",
    "    val_dataset = CustomDataset(X_val, y_val)\n",
    "    #test_dataset = CustomDataset(X_test, y_test)\n",
    "\n",
    "    batch_size = 32\n",
    "\n",
    "    train_loader = DataLoader(train_dataset, batch_size=batch_size, shuffle=True)\n",
    "    val_loader = DataLoader(val_dataset, batch_size=batch_size, shuffle=False)\n",
    "\n",
    "    train_losses, val_losses = train(model, train_loader, val_loader, criterion, optimizer, scheduler, device, num_epochs=110)\n",
    "    plt.plot(train_losses, label='Train Loss')\n",
    "    plt.plot(val_losses, label='Val Loss')\n",
    "    plt.xlabel('Epoch')\n",
    "    plt.ylabel('Loss')\n",
    "    plt.legend()\n",
    "    plt.show()\n",
    "\n",
    "    OUTPUT_DIR = '/home/samuele/MLproject/Presentation'\n",
    "\n",
    "    model_name = os.path.join(OUTPUT_DIR, 'AMPM_presentation' + '.ptm')\n",
    "    torch.save(model.state_dict(), model_name)\n",
    "    print('Model saved as: ' + model_name)"
   ]
  },
  {
   "cell_type": "code",
   "execution_count": 18,
   "id": "ad7196b9-30f2-42db-b95b-82e6b1f59157",
   "metadata": {},
   "outputs": [
    {
     "name": "stderr",
     "output_type": "stream",
     "text": [
      "/home/samuele/.local/lib/python3.8/site-packages/torch/cuda/__init__.py:128: UserWarning: CUDA initialization: The NVIDIA driver on your system is too old (found version 6050). Please update your GPU driver by downloading and installing a new version from the URL: http://www.nvidia.com/Download/index.aspx Alternatively, go to: https://pytorch.org to install a PyTorch version that has been compiled with your version of the CUDA driver. (Triggered internally at ../c10/cuda/CUDAFunctions.cpp:108.)\n",
      "  return torch._C._cuda_getDeviceCount() > 0\n",
      "/home/samuele/.local/lib/python3.8/site-packages/torch/optim/lr_scheduler.py:60: UserWarning: The verbose parameter is deprecated. Please use get_last_lr() to access the learning rate.\n",
      "  warnings.warn(\n"
     ]
    },
    {
     "name": "stdout",
     "output_type": "stream",
     "text": [
      "Epoch 1/110, Train Loss: 0.6475, Val Loss: 0.5031\n",
      "Epoch 2/110, Train Loss: 0.4940, Val Loss: 0.4269\n",
      "Epoch 3/110, Train Loss: 0.4047, Val Loss: 0.3364\n",
      "Epoch 4/110, Train Loss: 0.3120, Val Loss: 0.3021\n",
      "Epoch 5/110, Train Loss: 0.2564, Val Loss: 0.2708\n",
      "Epoch 6/110, Train Loss: 0.2450, Val Loss: 0.2432\n",
      "Epoch 7/110, Train Loss: 0.2563, Val Loss: 0.2130\n",
      "Epoch 8/110, Train Loss: 0.1516, Val Loss: 0.1885\n",
      "Epoch 9/110, Train Loss: 0.1352, Val Loss: 0.1738\n",
      "Epoch 10/110, Train Loss: 0.1141, Val Loss: 0.1683\n",
      "Epoch 11/110, Train Loss: 0.1252, Val Loss: 0.1638\n",
      "Epoch 12/110, Train Loss: 0.1291, Val Loss: 0.1589\n",
      "Epoch 13/110, Train Loss: 0.0928, Val Loss: 0.1535\n",
      "Epoch 14/110, Train Loss: 0.1117, Val Loss: 0.1460\n",
      "Epoch 15/110, Train Loss: 0.1142, Val Loss: 0.1419\n",
      "Epoch 16/110, Train Loss: 0.1257, Val Loss: 0.1402\n",
      "Epoch 17/110, Train Loss: 0.0996, Val Loss: 0.1379\n",
      "Epoch 18/110, Train Loss: 0.1095, Val Loss: 0.1354\n",
      "Epoch 19/110, Train Loss: 0.0951, Val Loss: 0.1336\n",
      "Epoch 20/110, Train Loss: 0.0715, Val Loss: 0.1332\n",
      "Epoch 21/110, Train Loss: 0.0810, Val Loss: 0.1325\n",
      "Epoch 22/110, Train Loss: 0.0982, Val Loss: 0.1311\n",
      "Epoch 23/110, Train Loss: 0.0781, Val Loss: 0.1293\n",
      "Epoch 24/110, Train Loss: 0.0785, Val Loss: 0.1264\n",
      "Epoch 25/110, Train Loss: 0.0730, Val Loss: 0.1234\n",
      "Epoch 26/110, Train Loss: 0.0784, Val Loss: 0.1209\n",
      "Epoch 27/110, Train Loss: 0.0970, Val Loss: 0.1192\n",
      "Epoch 28/110, Train Loss: 0.0800, Val Loss: 0.1184\n",
      "Epoch 29/110, Train Loss: 0.1036, Val Loss: 0.1185\n",
      "Epoch 30/110, Train Loss: 0.0547, Val Loss: 0.1184\n",
      "Epoch 31/110, Train Loss: 0.0763, Val Loss: 0.1175\n",
      "Epoch 32/110, Train Loss: 0.0696, Val Loss: 0.1163\n",
      "Epoch 33/110, Train Loss: 0.0725, Val Loss: 0.1152\n",
      "Epoch 34/110, Train Loss: 0.0526, Val Loss: 0.1141\n",
      "Epoch 35/110, Train Loss: 0.0589, Val Loss: 0.1131\n",
      "Epoch 36/110, Train Loss: 0.0636, Val Loss: 0.1124\n",
      "Epoch 37/110, Train Loss: 0.0656, Val Loss: 0.1116\n",
      "Epoch 38/110, Train Loss: 0.0633, Val Loss: 0.1110\n",
      "Epoch 39/110, Train Loss: 0.0767, Val Loss: 0.1106\n",
      "Epoch 40/110, Train Loss: 0.0682, Val Loss: 0.1101\n",
      "Epoch 41/110, Train Loss: 0.0765, Val Loss: 0.1097\n",
      "Epoch 42/110, Train Loss: 0.0534, Val Loss: 0.1092\n",
      "Epoch 43/110, Train Loss: 0.0774, Val Loss: 0.1088\n",
      "Epoch 44/110, Train Loss: 0.0642, Val Loss: 0.1081\n",
      "Epoch 45/110, Train Loss: 0.0600, Val Loss: 0.1075\n",
      "Epoch 46/110, Train Loss: 0.0521, Val Loss: 0.1070\n",
      "Epoch 47/110, Train Loss: 0.0664, Val Loss: 0.1067\n",
      "Epoch 48/110, Train Loss: 0.0600, Val Loss: 0.1065\n",
      "Epoch 49/110, Train Loss: 0.0687, Val Loss: 0.1061\n",
      "Epoch 50/110, Train Loss: 0.0510, Val Loss: 0.1057\n",
      "Epoch 51/110, Train Loss: 0.0543, Val Loss: 0.1053\n",
      "Epoch 52/110, Train Loss: 0.0672, Val Loss: 0.1049\n",
      "Epoch 53/110, Train Loss: 0.0690, Val Loss: 0.1048\n",
      "Epoch 54/110, Train Loss: 0.0704, Val Loss: 0.1050\n",
      "Epoch 55/110, Train Loss: 0.0666, Val Loss: 0.1052\n",
      "Epoch 56/110, Train Loss: 0.0577, Val Loss: 0.1047\n",
      "Epoch 57/110, Train Loss: 0.0537, Val Loss: 0.1039\n",
      "Epoch 58/110, Train Loss: 0.0529, Val Loss: 0.1035\n",
      "Epoch 59/110, Train Loss: 0.0481, Val Loss: 0.1033\n",
      "Epoch 60/110, Train Loss: 0.0630, Val Loss: 0.1032\n",
      "Epoch 61/110, Train Loss: 0.0670, Val Loss: 0.1030\n",
      "Epoch 62/110, Train Loss: 0.0463, Val Loss: 0.1026\n",
      "Epoch 63/110, Train Loss: 0.0507, Val Loss: 0.1025\n",
      "Epoch 64/110, Train Loss: 0.0537, Val Loss: 0.1024\n",
      "Epoch 65/110, Train Loss: 0.0745, Val Loss: 0.1021\n",
      "Epoch 66/110, Train Loss: 0.0469, Val Loss: 0.1019\n",
      "Epoch 67/110, Train Loss: 0.0655, Val Loss: 0.1017\n",
      "Epoch 68/110, Train Loss: 0.0541, Val Loss: 0.1020\n",
      "Epoch 69/110, Train Loss: 0.0704, Val Loss: 0.1020\n",
      "Epoch 70/110, Train Loss: 0.0689, Val Loss: 0.1017\n",
      "Epoch 71/110, Train Loss: 0.0632, Val Loss: 0.1019\n",
      "Epoch 72/110, Train Loss: 0.0604, Val Loss: 0.1018\n",
      "Epoch 73/110, Train Loss: 0.0523, Val Loss: 0.1013\n",
      "Epoch 74/110, Train Loss: 0.0571, Val Loss: 0.1005\n",
      "Epoch 75/110, Train Loss: 0.0597, Val Loss: 0.1005\n",
      "Epoch 76/110, Train Loss: 0.0501, Val Loss: 0.1018\n",
      "Epoch 77/110, Train Loss: 0.0538, Val Loss: 0.1026\n",
      "Epoch 78/110, Train Loss: 0.0451, Val Loss: 0.1015\n",
      "Epoch 79/110, Train Loss: 0.0512, Val Loss: 0.1005\n",
      "Epoch 80/110, Train Loss: 0.0477, Val Loss: 0.1000\n",
      "Epoch 81/110, Train Loss: 0.0453, Val Loss: 0.0999\n",
      "Epoch 82/110, Train Loss: 0.0554, Val Loss: 0.1005\n",
      "Epoch 83/110, Train Loss: 0.0440, Val Loss: 0.1012\n",
      "Epoch 84/110, Train Loss: 0.0668, Val Loss: 0.1012\n",
      "Epoch 85/110, Train Loss: 0.0496, Val Loss: 0.1003\n",
      "Epoch 86/110, Train Loss: 0.0462, Val Loss: 0.1012\n",
      "Epoch 87/110, Train Loss: 0.0592, Val Loss: 0.1032\n",
      "Epoch 88/110, Train Loss: 0.0506, Val Loss: 0.1009\n",
      "Epoch 89/110, Train Loss: 0.0537, Val Loss: 0.0995\n",
      "Epoch 90/110, Train Loss: 0.0479, Val Loss: 0.0997\n",
      "Epoch 91/110, Train Loss: 0.0530, Val Loss: 0.1003\n",
      "Epoch 92/110, Train Loss: 0.0648, Val Loss: 0.1006\n",
      "Epoch 93/110, Train Loss: 0.0399, Val Loss: 0.1011\n",
      "Epoch 94/110, Train Loss: 0.0439, Val Loss: 0.1012\n",
      "Epoch 95/110, Train Loss: 0.0438, Val Loss: 0.1012\n",
      "Epoch 96/110, Train Loss: 0.0592, Val Loss: 0.1013\n",
      "Epoch 97/110, Train Loss: 0.0431, Val Loss: 0.1018\n",
      "Epoch 98/110, Train Loss: 0.0464, Val Loss: 0.1020\n",
      "Epoch 99/110, Train Loss: 0.0554, Val Loss: 0.1018\n",
      "Epoch 100/110, Train Loss: 0.0455, Val Loss: 0.1017\n",
      "Epoch 101/110, Train Loss: 0.0506, Val Loss: 0.1020\n",
      "Epoch 102/110, Train Loss: 0.0371, Val Loss: 0.1022\n",
      "Epoch 103/110, Train Loss: 0.0440, Val Loss: 0.1024\n",
      "Epoch 104/110, Train Loss: 0.0490, Val Loss: 0.1024\n",
      "Epoch 105/110, Train Loss: 0.0514, Val Loss: 0.1022\n",
      "Epoch 106/110, Train Loss: 0.0455, Val Loss: 0.1018\n",
      "Epoch 107/110, Train Loss: 0.0444, Val Loss: 0.1017\n",
      "Epoch 108/110, Train Loss: 0.0419, Val Loss: 0.1017\n",
      "Epoch 109/110, Train Loss: 0.0645, Val Loss: 0.1018\n",
      "Epoch 110/110, Train Loss: 0.0398, Val Loss: 0.1020\n"
     ]
    },
    {
     "data": {
      "image/png": "[encoded data removed]",
      "text/plain": [
       "<Figure size 640x480 with 1 Axes>"
      ]
     },
     "metadata": {},
     "output_type": "display_data"
    },
    {
     "name": "stdout",
     "output_type": "stream",
     "text": [
      "Model saved as: /home/samuele/MLproject/Presentation/AMPM_presentation.ptm\n"
     ]
    }
   ],
   "source": [
    "if __name__ == '__main__':\n",
    "    main()"
   ]
  },
  {
   "cell_type": "markdown",
   "id": "cc188c6c-3470-4df6-95f1-195a1bc94179",
   "metadata": {},
   "source": [
    "# Using the model for predictions"
   ]
  },
  {
   "cell_type": "code",
   "execution_count": 19,
   "id": "688e7fbc-34f0-4ede-9d70-50d52f937236",
   "metadata": {},
   "outputs": [],
   "source": [
    "import json"
   ]
  },
  {
   "cell_type": "code",
   "execution_count": 20,
   "id": "a63ce610-cea5-4e49-abab-0aebce29e73c",
   "metadata": {},
   "outputs": [],
   "source": [
    "def test_model(model, test_loader, criterion, device, feature_count=8):\n",
    "    model.eval() \n",
    "    test_loss = 0.0\n",
    "    all_y_truth = []\n",
    "    all_y_pred = []\n",
    "\n",
    "    with torch.no_grad():  \n",
    "        for X_batch, y_batch in test_loader:\n",
    "            \n",
    "            X_batch, y_batch = X_batch.to(device), y_batch.to(device)\n",
    "\n",
    "            bs, nw, seq_len, feature_dim = X_batch.shape\n",
    "            X_batch = X_batch.view(bs * nw, seq_len, feature_dim)\n",
    "            y_batch = y_batch.view(bs * nw, -1)\n",
    "\n",
    "            y_pred, _ = model(X_batch)\n",
    "\n",
    "            # Reshape predictions and ground truth to original shape for comparison\n",
    "            y_pred = y_pred.view(bs, nw, -1)\n",
    "            y_batch = y_batch.view(bs, nw, -1)\n",
    "\n",
    "            loss = criterion(y_pred[:, :, :feature_count], y_batch[:, :, :feature_count])\n",
    "            test_loss += loss.item()\n",
    "\n",
    "            all_y_truth.append(y_batch[:, :, :feature_count].cpu())\n",
    "            all_y_pred.append(y_pred[:, :, :feature_count].cpu())\n",
    "\n",
    "    avg_test_loss = test_loss / len(test_loader)\n",
    "\n",
    "    # Convert predictions and truth to a format suitable for json\n",
    "    all_y_truth = torch.cat(all_y_truth, dim=0).numpy()\n",
    "    all_y_pred = torch.cat(all_y_pred, dim=0).numpy()\n",
    "\n",
    "    print(f\"Test Loss: {avg_test_loss:.4f}\")\n",
    "    mae = calculate_metrics(torch.tensor(all_y_pred), torch.tensor(all_y_truth))\n",
    "\n",
    "    save_results_as_json(all_y_truth, all_y_pred, \"/home/samuele/MLproject/Presentation/results.json\", mae, avg_test_loss)"
   ]
  },
  {
   "cell_type": "code",
   "execution_count": 21,
   "id": "7f7eb321-358f-4d3b-b6b9-a445ba7ccf9b",
   "metadata": {},
   "outputs": [],
   "source": [
    "def save_results_as_json(truths, predictions, output_path, mae, avg_test_loss):\n",
    "    results = {\n",
    "        \"Metrics\": {\n",
    "            \"Mean Absolute Error (MAE)\": round(mae, 4),\n",
    "            \"Average Test Loss\": round(avg_test_loss, 4)\n",
    "        },\n",
    "        \"Predictions\": []\n",
    "    }\n",
    "\n",
    "    movement_id = 1\n",
    "    for truth, pred in zip(truths, predictions):\n",
    "        for t_row, p_row in zip(truth, pred):\n",
    "            differences = [round(float(t) - float(p), 2) for t, p in zip(t_row.tolist(), p_row.tolist())]\n",
    "            results[\"Predictions\"].append({\n",
    "                \"Movement\": movement_id,\n",
    "                \"Ground Truth\": [f\"{val:+.2f}\" for val in t_row.tolist()],\n",
    "                \"Prediction\": [f\"{val:+.2f}\" for val in p_row.tolist()],\n",
    "                \"Difference\": [f\"{val:+.2f}\" for val in differences]\n",
    "            })\n",
    "            movement_id += 1\n",
    "\n",
    "    with open(output_path, 'w') as json_file:\n",
    "        json.dump(results, json_file, indent=4)\n",
    "    print(f\"Results saved to {output_path}\")"
   ]
  },
  {
   "cell_type": "code",
   "execution_count": 22,
   "id": "ad167f6c-e245-436a-9676-db038635f9e2",
   "metadata": {},
   "outputs": [],
   "source": [
    "def calculate_metrics(predictions, truths):\n",
    "    abs_errors = torch.abs(predictions - truths)\n",
    "    squared_errors = abs_errors ** 2\n",
    "\n",
    "    mae = abs_errors.mean().item()\n",
    "    mse = squared_errors.mean().item()\n",
    "\n",
    "    return mae"
   ]
  },
  {
   "cell_type": "code",
   "execution_count": 24,
   "id": "147fddea-b893-4303-8dd6-fdd56c2d2b29",
   "metadata": {},
   "outputs": [],
   "source": [
    "def main():\n",
    "    device = torch.device('cuda' if torch.cuda.is_available() else 'cpu')\n",
    "    model = CustomLSTM(input_sz=8, hidden_sz=64).to(device)\n",
    "\n",
    "    model_path = 'AMPM_presentation.ptm'\n",
    "    model.load_state_dict(torch.load(model_path, map_location=device, weights_only=True))\n",
    "\n",
    "    criterion = nn.MSELoss()\n",
    "\n",
    "    data_path = 'lstm_dataset6.pt'\n",
    "    X_train, y_train, X_val, y_val, X_test, y_test = load_data(data_path)\n",
    "\n",
    "    test_dataset = CustomDataset(X_test, y_test)\n",
    "    test_loader = DataLoader(test_dataset, batch_size=32, shuffle=False)\n",
    "\n",
    "    test_model(model, test_loader, criterion, device, feature_count=8)"
   ]
  },
  {
   "cell_type": "code",
   "execution_count": 25,
   "id": "6a03f980-ac7c-4e22-9478-53733f73e8e5",
   "metadata": {
    "scrolled": true
   },
   "outputs": [
    {
     "name": "stdout",
     "output_type": "stream",
     "text": [
      "Test Loss: 0.0573\n",
      "Results saved to /home/samuele/MLproject/Presentation/results.json\n"
     ]
    }
   ],
   "source": [
    "if __name__ == '__main__':\n",
    "    main()"
   ]
  },
  {
   "cell_type": "markdown",
   "id": "545925f5",
   "metadata": {},
   "source": [
    "# Model evaluation "
   ]
  },
  {
   "cell_type": "code",
   "execution_count": 26,
   "id": "cd988282-5c04-4941-a691-3a0ecb20f5e7",
   "metadata": {},
   "outputs": [],
   "source": [
    "# Putting the JSON results file in a pandas DataFrame for easier calculations\n",
    "\n",
    "# Opening the JSON file\n",
    "with open('results.json', 'r') as f:\n",
    "    data = json.load(f)\n",
    "\n",
    "# Extract the movements\n",
    "movements = data[\"Predictions\"]\n",
    "\n",
    "# Names of the columns\n",
    "columns = [\"T_x\", \"T_y\", \"T_z\", \"T_roll\", \"T_pitch\", \"T_yaw\", \"T_lin\", \"T_ang\", \n",
    "           \"P_x\", \"P_y\", \"P_z\", \"P_roll\", \"P_pitch\", \"P_yaw\", \"P_lin\", \"P_ang\", \n",
    "           \"D_x\", \"D_y\", \"D_z\", \"D_roll\", \"D_pitch\", \"D_yaw\", \"D_lin\", \"D_ang\"]\n",
    "\n",
    "# Creating the DataFrame\n",
    "rows = []\n",
    "for movement in movements:\n",
    "    row = movement[\"Ground Truth\"] + movement[\"Prediction\"] + movement[\"Difference\"]\n",
    "    rows.append(row)\n",
    "\n",
    "df = pd.DataFrame(rows, columns=columns)\n",
    "df = df.apply(pd.to_numeric)"
   ]
  },
  {
   "cell_type": "markdown",
   "id": "0dcbaac1-05f8-4803-ab35-c7a0228c1a7d",
   "metadata": {},
   "source": [
    "## 1. Components of movements that are the best / worst predicted"
   ]
  },
  {
   "cell_type": "code",
   "execution_count": 27,
   "id": "98d08433-1b13-4417-8721-dc8308ff0a49",
   "metadata": {},
   "outputs": [
    {
     "name": "stdout",
     "output_type": "stream",
     "text": [
      "  Component  Sum of Squared Differences  Max absolute error  Relative error\n",
      "0         x                       26.36                0.46           68.10\n",
      "1         y                       20.37                0.39           24.12\n",
      "2         z                        4.59                0.12             NaN\n",
      "3      roll                        5.23                0.06             NaN\n",
      "4     pitch                        4.64                0.07             NaN\n",
      "5       yaw                       39.63                2.59           40.55\n",
      "6       lin                       21.80                0.50            8.84\n",
      "7       ang                       58.42                3.89          580.49\n"
     ]
    }
   ],
   "source": [
    "# Components of the movements\n",
    "components = [\"x\", \"y\", \"z\", \"roll\", \"pitch\", \"yaw\", \"lin\", \"ang\"]\n",
    "\n",
    "# Creating a DataFrame to show the results in a clear and synthetic way\n",
    "df_results = pd.DataFrame({\n",
    "    \"Component\": components,\n",
    "    \"Sum of Squared Differences\": [(df[f\"D_{c}\"].abs()).sum()  for c in components],\n",
    "    \"Max absolute error\": [df[f\"D_{c}\"].abs().max() for c in components],\n",
    "    \"Relative error\": [round((df[f\"D_{c}\"] / df[f\"T_{c}\"]).abs()[df[f\"T_{c}\"] != 0].mean()*100,2) for c in components],\n",
    "})\n",
    "\n",
    "# Printing the DataFrame\n",
    "print(df_results)\n"
   ]
  },
  {
   "cell_type": "markdown",
   "id": "1a2123ea-2e13-419e-ac16-b1b724bf1115",
   "metadata": {},
   "source": [
    "## 2. Best and worst predicted movements"
   ]
  },
  {
   "cell_type": "code",
   "execution_count": 28,
   "id": "b1de24e8-c984-4e05-ad29-9326e02ac4e0",
   "metadata": {},
   "outputs": [
    {
     "name": "stdout",
     "output_type": "stream",
     "text": [
      "      T_x   T_y  T_z  T_roll  T_pitch  T_yaw  T_lin  T_ang\n",
      "186 -1.16 -0.37  0.0     0.0      0.0   0.18   1.08  -0.02\n",
      "187 -1.20 -0.36  0.0     0.0      0.0   0.18   1.08   0.02\n",
      "188 -1.24 -0.36  0.0     0.0      0.0   0.18   1.08  -0.01\n",
      "190 -1.33 -0.36  0.0     0.0      0.0   0.18   1.08  -0.02\n",
      "191 -1.37 -0.36  0.0     0.0      0.0   0.18   1.08  -0.02\n",
      "185 -1.12 -0.37  0.0     0.0      0.0   0.18   1.08  -0.02\n",
      "189 -1.29 -0.36  0.0     0.0      0.0   0.18   1.08  -0.02\n",
      "43   0.52  0.25  0.0     0.0      0.0  -1.57   0.56  -0.02\n",
      "42   0.55  0.28  0.0     0.0      0.0  -1.58   0.56  -0.02\n",
      "41   0.58  0.31  0.0     0.0      0.0  -1.58   0.56  -0.01\n",
      "44   0.49  0.21  0.0     0.0      0.0  -1.57   0.56  -0.02\n",
      "40   0.61  0.35  0.0     0.0      0.0  -1.58   0.56   0.00\n"
     ]
    }
   ],
   "source": [
    "# Adding, for each movements, the sum of the absolute errors\n",
    "df[\"Total_Error\"] = df[[f\"D_{c}\" for c in components]].abs().sum(axis=1)\n",
    "\n",
    "# Keeping only the 5% best predicted movements (with the smaller total error)\n",
    "best_predicted = df.nsmallest(int(len(df) * 0.05), \"Total_Error\")\n",
    "print(best_predicted[[col for col in df.columns if col.startswith(\"T_\")]])"
   ]
  },
  {
   "cell_type": "code",
   "execution_count": 29,
   "id": "12f98682-0700-4a98-aa6e-1ba3c900cefb",
   "metadata": {},
   "outputs": [
    {
     "name": "stdout",
     "output_type": "stream",
     "text": [
      "      T_x   T_y  T_z  T_roll  T_pitch  T_yaw  T_lin  T_ang\n",
      "27  -0.04 -1.95  0.0     0.0      0.0   0.42   1.08  -3.54\n",
      "61  -0.04 -0.37  0.0     0.0      0.0  -1.54   0.56   4.14\n",
      "31  -0.18 -2.06  0.0     0.0      0.0   2.41   1.08  -0.19\n",
      "179 -0.87 -0.38  0.0     0.0      0.0   0.18   1.08  -0.06\n",
      "165 -0.30 -0.33  0.0     0.0      0.0  -0.04   1.08   1.41\n",
      "168 -0.42 -0.30  0.0     0.0      0.0  -2.38   1.08   0.15\n",
      "4   -0.02 -0.36  0.0     0.0      0.0   1.03   1.08  -3.39\n",
      "192 -1.41 -0.36  0.0     0.0      0.0  -2.40   1.08  -0.02\n",
      "193 -1.45 -0.36  0.0     0.0      0.0  -2.40   1.08  -0.02\n",
      "160 -0.13 -0.53  0.0     0.0      0.0   0.10   1.08  -0.98\n",
      "5    0.01 -0.40  0.0     0.0      0.0   0.72   1.08  -1.59\n",
      "194 -1.49 -0.36  0.0     0.0      0.0  -2.40   1.08  -0.02\n"
     ]
    }
   ],
   "source": [
    "# Keeping only the 5% worst predicted movements (with the higer total error)\n",
    "worst_predicted = df.nlargest(int(len(df) * 0.05), \"Total_Error\")\n",
    "print(worst_predicted[[col for col in df.columns if col.startswith(\"T_\")]])"
   ]
  }
 ],
 "metadata": {
  "kernelspec": {
   "display_name": "Python 3 (ipykernel)",
   "language": "python",
   "name": "python3"
  },
  "language_info": {
   "codemirror_mode": {
    "name": "ipython",
    "version": 3
   },
   "file_extension": ".py",
   "mimetype": "text/x-python",
   "name": "python",
   "nbconvert_exporter": "python",
   "pygments_lexer": "ipython3",
   "version": "3.8.10"
  }
 },
 "nbformat": 4,
 "nbformat_minor": 5
}
