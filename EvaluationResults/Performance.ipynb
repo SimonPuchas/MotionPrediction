{
 "cells": [
  {
   "cell_type": "code",
   "execution_count": 9,
   "metadata": {},
   "outputs": [],
   "source": [
    "import json\n",
    "import pandas as pd"
   ]
  },
  {
   "cell_type": "code",
   "execution_count": 10,
   "metadata": {},
   "outputs": [],
   "source": [
    "# Putting the JSON results file in a pandas DataFrame for easier calculations\n",
    "\n",
    "# Opening the JSON file\n",
    "with open('results.json', 'r') as f:\n",
    "    data = json.load(f)\n",
    "\n",
    "# Extract the movements\n",
    "movements = data[\"Predictions\"]\n",
    "\n",
    "# Names of the columns\n",
    "columns = [\"T_x\", \"T_y\", \"T_z\", \"T_roll\", \"T_pitch\", \"T_yaw\", \"T_lin\", \"T_ang\", \n",
    "           \"P_x\", \"P_y\", \"P_z\", \"P_roll\", \"P_pitch\", \"P_yaw\", \"P_lin\", \"P_ang\", \n",
    "           \"D_x\", \"D_y\", \"D_z\", \"D_roll\", \"D_pitch\", \"D_yaw\", \"D_lin\", \"D_ang\"]\n",
    "\n",
    "# Creating the DataFrame\n",
    "rows = []\n",
    "for movement in movements:\n",
    "    row = movement[\"Ground Truth\"] + movement[\"Prediction\"] + movement[\"Difference\"]\n",
    "    rows.append(row)\n",
    "\n",
    "df = pd.DataFrame(rows, columns=columns)\n",
    "df = df.apply(pd.to_numeric)"
   ]
  },
  {
   "cell_type": "markdown",
   "metadata": {},
   "source": [
    "## 1. Components of movements that are the best / worst predicted"
   ]
  },
  {
   "cell_type": "code",
   "execution_count": 21,
   "metadata": {},
   "outputs": [
    {
     "name": "stdout",
     "output_type": "stream",
     "text": [
      "  Component  Sum of Squared Differences  Max absolute error  Relative error\n",
      "0         x                       19.66                0.48           39.73\n",
      "1         y                       25.76                0.73           35.28\n",
      "2         z                        5.93                0.11             NaN\n",
      "3      roll                        5.85                0.09             NaN\n",
      "4     pitch                        4.52                0.12             NaN\n",
      "5       yaw                       44.64                2.57           39.45\n",
      "6       lin                       20.77                0.33            8.88\n",
      "7       ang                       63.28                3.78          665.38\n"
     ]
    }
   ],
   "source": [
    "# Components of the movements\n",
    "components = [\"x\", \"y\", \"z\", \"roll\", \"pitch\", \"yaw\", \"lin\", \"ang\"]\n",
    "\n",
    "# Creating a DataFrame to show the results in a clear and synthetic way\n",
    "df_results = pd.DataFrame({\n",
    "    \"Component\": components,\n",
    "    \"Sum of Squared Differences\": [(df[f\"D_{c}\"].abs()).sum()  for c in components],\n",
    "    \"Max absolute error\": [df[f\"D_{c}\"].abs().max() for c in components],\n",
    "    \"Relative error\": [round((df[f\"D_{c}\"] / df[f\"T_{c}\"]).abs()[df[f\"T_{c}\"] != 0].mean()*100,2) for c in components],\n",
    "})\n",
    "\n",
    "# Printing the DataFrame\n",
    "print(df_results)"
   ]
  },
  {
   "cell_type": "markdown",
   "metadata": {},
   "source": [
    "We don't take into account z, roll and pitch because the ground truth is always 0. But the fact that we still have some errors, shows that our model didn't remember thoses parameters but tried to estimate them instead. It's an indicator that goes against an overfitted model.\n",
    "\n",
    "We can see that our model struggles most with forecasting the angular velocity. "
   ]
  },
  {
   "cell_type": "markdown",
   "metadata": {},
   "source": [
    "## 2. Best and worst predicted movements"
   ]
  },
  {
   "cell_type": "code",
   "execution_count": 20,
   "metadata": {},
   "outputs": [
    {
     "name": "stdout",
     "output_type": "stream",
     "text": [
      "\n",
      "\n",
      "\n",
      "      T_x   T_y  T_z  T_roll  T_pitch  T_yaw  T_lin  T_ang\n",
      "208 -0.69  0.16  0.0     0.0      0.0   0.96   1.08   0.01\n",
      "202 -0.47 -0.02  0.0     0.0      0.0   0.76   1.08  -0.21\n",
      "207 -0.65  0.14  0.0     0.0      0.0   0.95   1.08   0.05\n",
      "209 -0.73  0.17  0.0     0.0      0.0   0.97   1.08  -0.01\n",
      "190 -1.33 -0.36  0.0     0.0      0.0   0.18   1.08  -0.02\n",
      "88   2.11 -0.81  0.0     0.0      0.0  -0.30   1.08  -0.02\n",
      "90   2.03 -0.84  0.0     0.0      0.0  -0.30   1.08  -0.02\n",
      "191 -1.37 -0.36  0.0     0.0      0.0   0.18   1.08  -0.02\n",
      "91   1.99 -0.85  0.0     0.0      0.0  -0.30   1.08  -0.02\n",
      "11   0.03 -0.82  0.0     0.0      0.0   0.44   1.08  -0.04\n",
      "79   0.51 -0.28  0.0     0.0      0.0  -0.37   0.56  -0.02\n",
      "86   2.19 -0.79  0.0     0.0      0.0  -0.29   1.08  -0.08\n",
      "\n",
      "\n",
      "\n"
     ]
    }
   ],
   "source": [
    "# Adding, for each movements, the sum of the absolute errors\n",
    "df[\"Total_Error\"] = df[[f\"D_{c}\" for c in components]].abs().sum(axis=1)\n",
    "\n",
    "# Keeping only the 5% best predicted movements (with the smaller total error)\n",
    "best_predicted = df.nsmallest(int(len(df) * 0.05), \"Total_Error\")\n",
    "print(best_predicted[[col for col in df.columns if col.startswith(\"T_\")]])"
   ]
  },
  {
   "cell_type": "code",
   "execution_count": 19,
   "metadata": {},
   "outputs": [
    {
     "name": "stdout",
     "output_type": "stream",
     "text": [
      "\n",
      "\n",
      "\n",
      "      T_x   T_y  T_z  T_roll  T_pitch  T_yaw  T_lin  T_ang\n",
      "27  -0.04 -1.95  0.0     0.0      0.0   0.42   1.08  -3.54\n",
      "61  -0.04 -0.37  0.0     0.0      0.0  -1.54   0.56   4.14\n",
      "165 -0.30 -0.33  0.0     0.0      0.0  -0.04   1.08   1.41\n",
      "28  -0.06 -2.02  0.0     0.0      0.0   0.09   1.08  -1.66\n",
      "4   -0.02 -0.36  0.0     0.0      0.0   1.03   1.08  -3.39\n",
      "192 -1.41 -0.36  0.0     0.0      0.0  -2.40   1.08  -0.02\n",
      "168 -0.42 -0.30  0.0     0.0      0.0  -2.38   1.08   0.15\n",
      "31  -0.18 -2.06  0.0     0.0      0.0   2.41   1.08  -0.19\n",
      "179 -0.87 -0.38  0.0     0.0      0.0   0.18   1.08  -0.06\n",
      "160 -0.13 -0.53  0.0     0.0      0.0   0.10   1.08  -0.98\n",
      "193 -1.45 -0.36  0.0     0.0      0.0  -2.40   1.08  -0.02\n",
      "170 -0.50 -0.31  0.0     0.0      0.0  -2.35   1.08   0.02\n",
      "\n",
      "\n",
      "\n"
     ]
    }
   ],
   "source": [
    "# Keeping only the 5% worst predicted movements (with the higer total error)\n",
    "worst_predicted = df.nlargest(int(len(df) * 0.05), \"Total_Error\")\n",
    "print(worst_predicted[[col for col in df.columns if col.startswith(\"T_\")]])"
   ]
  },
  {
   "cell_type": "markdown",
   "metadata": {},
   "source": [
    "Indeed, we can see that our model struggles most when forecasting movements with a higher angular velocity. This is consistent with what we found before."
   ]
  }
 ],
 "metadata": {
  "kernelspec": {
   "display_name": "Python 3",
   "language": "python",
   "name": "python3"
  },
  "language_info": {
   "codemirror_mode": {
    "name": "ipython",
    "version": 3
   },
   "file_extension": ".py",
   "mimetype": "text/x-python",
   "name": "python",
   "nbconvert_exporter": "python",
   "pygments_lexer": "ipython3",
   "version": "3.11.9"
  }
 },
 "nbformat": 4,
 "nbformat_minor": 2
}
