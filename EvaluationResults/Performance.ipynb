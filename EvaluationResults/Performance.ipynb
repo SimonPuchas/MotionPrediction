{
 "cells": [
  {
   "cell_type": "markdown",
   "metadata": {},
   "source": [
    "- Check the movements with best vs worst predictions\n",
    "- Check the types of movements that are the best / worst predicted."
   ]
  },
  {
   "cell_type": "code",
   "execution_count": 1,
   "metadata": {},
   "outputs": [],
   "source": [
    "import json\n",
    "import pandas as pd"
   ]
  },
  {
   "cell_type": "code",
   "execution_count": 25,
   "metadata": {},
   "outputs": [],
   "source": [
    "# Opening the JSON file\n",
    "with open('results_2_.json', 'r') as f:\n",
    "    data = json.load(f)\n",
    "\n",
    "# Extract the movements\n",
    "movements = data[\"Predictions\"]\n",
    "\n",
    "# Names of the columns\n",
    "columns = [\"T_x\", \"T_y\", \"T_z\", \"T_roll\", \"T_pitch\", \"T_yaw\", \"T_lin\", \"T_ang\", \n",
    "           \"P_x\", \"P_y\", \"P_z\", \"P_roll\", \"P_pitch\", \"P_yaw\", \"P_lin\", \"P_ang\", \n",
    "           \"D_x\", \"D_y\", \"D_z\", \"D_roll\", \"D_pitch\", \"D_yaw\", \"D_lin\", \"D_ang\"]\n",
    "\n",
    "# Creating the DataFrame\n",
    "rows = []\n",
    "for movement in movements:\n",
    "    row = movement[\"Ground Truth\"] + movement[\"Prediction\"] + movement[\"Difference\"]\n",
    "    rows.append(row)\n",
    "\n",
    "df = pd.DataFrame(rows, columns=columns)\n",
    "df = df.apply(pd.to_numeric)"
   ]
  },
  {
   "cell_type": "markdown",
   "metadata": {},
   "source": [
    "## 1. Components of movements that are the best / worst predicted"
   ]
  },
  {
   "cell_type": "code",
   "execution_count": 27,
   "metadata": {},
   "outputs": [
    {
     "name": "stdout",
     "output_type": "stream",
     "text": [
      "  Component  Sum of Squared Differences  Max absolute error  Relative error\n",
      "0         x                       23.52                0.37           34.04\n",
      "1         y                       17.48                0.33           21.38\n",
      "2         z                        6.24                0.09             NaN\n",
      "3      roll                        5.17                0.12             NaN\n",
      "4     pitch                        3.03                0.09             NaN\n",
      "5       yaw                       46.91                2.60           42.69\n",
      "6       lin                       23.99                0.42            9.68\n",
      "7       ang                       65.13                3.99          712.37\n"
     ]
    }
   ],
   "source": [
    "# Components of the movements\n",
    "components = [\"x\", \"y\", \"z\", \"roll\", \"pitch\", \"yaw\", \"lin\", \"ang\"]\n",
    "\n",
    "# Creating a DataFrame to show some results\n",
    "df_results = pd.DataFrame({\n",
    "    \"Component\": components,\n",
    "    \"Sum of Squared Differences\": [(df[f\"D_{c}\"].abs()).sum()  for c in components],\n",
    "    \"Max absolute error\": [df[f\"D_{c}\"].abs().max() for c in components],\n",
    "    \"Relative error\": [round((df[f\"D_{c}\"] / df[f\"T_{c}\"]).abs()[df[f\"T_{c}\"] != 0].mean()*100,2) for c in components],\n",
    "})\n",
    "\n",
    "# Printing the DataFrame\n",
    "print(df_results)\n"
   ]
  },
  {
   "cell_type": "markdown",
   "metadata": {},
   "source": [
    "We don't take into account z, roll and pitch because the ground truth is always 0. But the fact that we still have some errors, shows that our model didn't remember thoses parameters but tried to estimate them instead. It's an indicator that goes against an overfitted model.\n",
    "\n",
    "We can see that our model struggles most with forecasting the angular velocity. "
   ]
  },
  {
   "cell_type": "markdown",
   "metadata": {},
   "source": [
    "## 2. Best predicted movements"
   ]
  },
  {
   "cell_type": "code",
   "execution_count": 29,
   "metadata": {},
   "outputs": [
    {
     "name": "stdout",
     "output_type": "stream",
     "text": [
      "      T_x   T_y  T_z  T_roll  T_pitch  T_yaw  T_lin  T_ang\n",
      "207 -0.65  0.14  0.0     0.0      0.0   0.95   1.08   0.05\n",
      "58   0.05 -0.26  0.0     0.0      0.0  -1.57   0.56  -0.02\n",
      "59   0.02 -0.30  0.0     0.0      0.0  -1.57   0.56  -0.02\n",
      "187 -1.20 -0.36  0.0     0.0      0.0   0.18   1.08   0.02\n",
      "186 -1.16 -0.37  0.0     0.0      0.0   0.18   1.08  -0.02\n",
      "185 -1.12 -0.37  0.0     0.0      0.0   0.18   1.08  -0.02\n",
      "75   0.37 -0.37  0.0     0.0      0.0  -0.37   0.56  -0.02\n",
      "76   0.40 -0.35  0.0     0.0      0.0  -0.37   0.56  -0.02\n",
      "208 -0.69  0.16  0.0     0.0      0.0   0.96   1.08   0.01\n",
      "77   0.44 -0.33  0.0     0.0      0.0  -0.37   0.56  -0.02\n",
      "78   0.47 -0.31  0.0     0.0      0.0  -0.37   0.56  -0.02\n",
      "79   0.51 -0.28  0.0     0.0      0.0  -0.37   0.56  -0.02\n"
     ]
    }
   ],
   "source": [
    "df[\"Total_Error\"] = df[[f\"D_{c}\" for c in components]].abs().sum(axis=1)\n",
    "best_predicted = df.nsmallest(int(len(df) * 0.05), \"Total_Error\")\n",
    "print(best_predicted[[col for col in df.columns if col.startswith(\"T_\")]])"
   ]
  },
  {
   "cell_type": "code",
   "execution_count": 30,
   "metadata": {},
   "outputs": [
    {
     "name": "stdout",
     "output_type": "stream",
     "text": [
      "      T_x   T_y  T_z  T_roll  T_pitch  T_yaw  T_lin  T_ang\n",
      "27  -0.04 -1.95  0.0     0.0      0.0   0.42   1.08  -3.54\n",
      "61  -0.04 -0.37  0.0     0.0      0.0  -1.54   0.56   4.14\n",
      "165 -0.30 -0.33  0.0     0.0      0.0  -0.04   1.08   1.41\n",
      "31  -0.18 -2.06  0.0     0.0      0.0   2.41   1.08  -0.19\n",
      "192 -1.41 -0.36  0.0     0.0      0.0  -2.40   1.08  -0.02\n",
      "4   -0.02 -0.36  0.0     0.0      0.0   1.03   1.08  -3.39\n",
      "168 -0.42 -0.30  0.0     0.0      0.0  -2.38   1.08   0.15\n",
      "179 -0.87 -0.38  0.0     0.0      0.0   0.18   1.08  -0.06\n",
      "193 -1.45 -0.36  0.0     0.0      0.0  -2.40   1.08  -0.02\n",
      "28  -0.06 -2.02  0.0     0.0      0.0   0.09   1.08  -1.66\n",
      "5    0.01 -0.40  0.0     0.0      0.0   0.72   1.08  -1.59\n",
      "199 -1.70 -0.36  0.0     0.0      0.0  -2.40   1.08  -0.02\n"
     ]
    }
   ],
   "source": [
    "df[\"Total_Error\"] = df[[f\"D_{c}\" for c in components]].abs().sum(axis=1)\n",
    "best_predicted = df.nlargest(int(len(df) * 0.05), \"Total_Error\")\n",
    "print(best_predicted[[col for col in df.columns if col.startswith(\"T_\")]])"
   ]
  },
  {
   "cell_type": "markdown",
   "metadata": {},
   "source": [
    "Indeed, our model struggles more when forecasting movements with a higher angular velocity."
   ]
  }
 ],
 "metadata": {
  "kernelspec": {
   "display_name": "Python 3",
   "language": "python",
   "name": "python3"
  },
  "language_info": {
   "codemirror_mode": {
    "name": "ipython",
    "version": 3
   },
   "file_extension": ".py",
   "mimetype": "text/x-python",
   "name": "python",
   "nbconvert_exporter": "python",
   "pygments_lexer": "ipython3",
   "version": "3.11.9"
  }
 },
 "nbformat": 4,
 "nbformat_minor": 2
}
